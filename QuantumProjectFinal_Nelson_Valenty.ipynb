{
 "cells": [
  {
   "cell_type": "code",
   "execution_count": 129,
   "id": "f7da7ee9",
   "metadata": {},
   "outputs": [],
   "source": [
    "#write input states in code\n",
    "#print out input states\n",
    "#write percent chances/probabilities in code\n",
    "# do not print percent chances\n",
    "#roll d20 with random num generator\n",
    "\n",
    "#print out measurement and score after every time\n",
    "\n",
    "#final: print out state being guessed with correct or incorrect with probabilities"
   ]
  },
  {
   "cell_type": "code",
   "execution_count": 130,
   "id": "5e9c0a9b",
   "metadata": {},
   "outputs": [],
   "source": [
    "import random\n",
    "random.seed()\n",
    "import numpy as np"
   ]
  },
  {
   "cell_type": "code",
   "execution_count": 131,
   "id": "7cc30f01",
   "metadata": {},
   "outputs": [
    {
     "name": "stdout",
     "output_type": "stream",
     "text": [
      "[[ 0.612 -0.782 -0.118]\n",
      " [ 0.69   0.599 -0.408]\n",
      " [-0.706 -0.656  0.269]\n",
      " [-0.174  0.796 -0.58 ]\n",
      " [-0.577 -0.753 -0.315]\n",
      " [ 0.129 -0.967  0.22 ]\n",
      " [-0.221  0.588  0.778]\n",
      " [ 0.254 -0.34  -0.906]]\n"
     ]
    }
   ],
   "source": [
    "#write input states as matrix\n",
    "#these are the psi given states\n",
    "#rows are each psi\n",
    "#columns are the constants in front of x, y, and z\n",
    "#CHANGE FOR NEW INPUT STATES\n",
    "inputstates=np.array([[0.612,-0.782,-0.118],\n",
    "              [0.690,0.599,-0.408],\n",
    "              [-0.706,-0.656,0.269],\n",
    "              [-0.174,0.796,-0.580],\n",
    "              [-0.577,-0.753,-0.315],\n",
    "              [0.129,-0.967,0.220],\n",
    "              [-0.221,0.588,0.778],\n",
    "              [0.254,-0.340,-0.906]]) #this is the given input states with the values of x,y, and z CHANGE\n",
    "Ninputstates=inputstates.shape[0]\n",
    "print(inputstates)\n",
    "#point system\n",
    "dsize=20\n",
    "maxguess=20\n",
    "penalty=5"
   ]
  },
  {
   "cell_type": "code",
   "execution_count": 132,
   "id": "40da2ebe",
   "metadata": {},
   "outputs": [],
   "source": [
    "#define x y and z measurements\n",
    "measurements=np.array([[1.,0.,0.],\n",
    "                     [0.,1.,0.],\n",
    "                     [0.,0.,1.]]) #this defines what x y and z mean\n",
    "Nmeasurements=measurements.shape[0]\n",
    "#print(measurements)"
   ]
  },
  {
   "cell_type": "code",
   "execution_count": 133,
   "id": "06f8a50a",
   "metadata": {},
   "outputs": [
    {
     "name": "stdout",
     "output_type": "stream",
     "text": [
      "[[16 16  2  8  4 11  7 12]\n",
      " [ 2 15  3 17  2  0 15  6]\n",
      " [ 8  5 12  4  6 12 17  0]]\n"
     ]
    }
   ],
   "source": [
    "#Build lookup table (probablility of measuring + for each state) [axis, states]\n",
    "prob=np.zeros((measurements.shape[0],Ninputstates),dtype=int)\n",
    "for i in range(measurements.shape[0]):\n",
    "    for j in range(Ninputstates):\n",
    "        prob[i, j] = (0.5*(1.0+np.dot(inputstates[j],measurements[i]))*dsize)\n",
    "print (prob)\n",
    "# rows are x, y, z and columns are states"
   ]
  },
  {
   "cell_type": "code",
   "execution_count": 134,
   "id": "1d1b99bf",
   "metadata": {},
   "outputs": [],
   "source": [
    "def measure(inputstate, measurement):\n",
    "\n",
    "    # Roll a dice with random number generator\n",
    "    if (random.randint(1,dsize)<=prob[measurements,inputstates]):\n",
    "        out = 1\n",
    "    else:\n",
    "        out = -1\n",
    "    return out"
   ]
  },
  {
   "cell_type": "code",
   "execution_count": 153,
   "id": "77c90e8c",
   "metadata": {},
   "outputs": [
    {
     "name": "stdout",
     "output_type": "stream",
     "text": [
      "[ 8  5 12  4  6 12 17  0]\n"
     ]
    }
   ],
   "source": [
    "#def chooserow(newValue):\n",
    "max_value=0;\n",
    "secondprob=0;\n",
    "chooserow=prob[(random.randint(0,2)),:]\n",
    "print (chooserow)"
   ]
  },
  {
   "cell_type": "code",
   "execution_count": 154,
   "id": "e9f2408f",
   "metadata": {},
   "outputs": [
    {
     "name": "stdout",
     "output_type": "stream",
     "text": [
      "-1\n",
      "[0.6  0.75 0.4  0.8  0.7  0.4  0.15 1.  ]\n"
     ]
    }
   ],
   "source": [
    "#def chooserow(newValue):\n",
    "#max_value=0;\n",
    "#secondprob=0;\n",
    "#chooserow=prob[(random.randint(0,2)),:]\n",
    "#print (chooserow)\n",
    "\n",
    "#possible update for code, once guess is incorrect then we omit that from the code and the incorrect state's probability is zero\n",
    "\n",
    "# tolerance=0.40\n",
    "# tolerance comes in to effect after at least 4 measurements\n",
    "\n",
    "out=-1\n",
    "print (out)\n",
    "#if (random.randint(1,dsize)<=chooserow[j]):\n",
    "#    out = 1\n",
    "#else:\n",
    "#    out = -1\n",
    "#    print (out)\n",
    "if (out==1):\n",
    "    newValue=chooserow/20\n",
    "    print(newValue)\n",
    "else:\n",
    "    newValue=(1-(chooserow/20))\n",
    "    print (newValue)\n",
    "#    return newValue"
   ]
  },
  {
   "cell_type": "code",
   "execution_count": 137,
   "id": "9cb1660e",
   "metadata": {},
   "outputs": [
    {
     "name": "stdout",
     "output_type": "stream",
     "text": [
      "[0.03333333 0.25       0.05       0.28333333 0.03333333 0.\n",
      " 0.25       0.1       ]\n"
     ]
    }
   ],
   "source": [
    "firstguess=np.zeros((newValue.shape[0],Ninputstates),dtype=float)\n",
    "for i in range(1):\n",
    "    for j in range(1):\n",
    "        #firstguess=(newValue*(1/8)/newValue.sum())\n",
    "        firstguess=newValue*(1/8)\n",
    "        firstguess=firstguess/firstguess.sum()\n",
    "        print (firstguess)"
   ]
  },
  {
   "cell_type": "code",
   "execution_count": 140,
   "id": "ae3343ef",
   "metadata": {},
   "outputs": [
    {
     "name": "stdout",
     "output_type": "stream",
     "text": [
      "[0.03463203 0.16233766 0.07792208 0.14718615 0.02597403 0.\n",
      " 0.55194805 0.        ]\n"
     ]
    }
   ],
   "source": [
    "secondguess=np.zeros((newValue.shape[0],Ninputstates),dtype=float)\n",
    "for i in range(1):\n",
    "    for j in range(1):\n",
    "        #secondguess =(newValue*(firstguess))/(newValue*firstguess).sum()\n",
    "        secondguess=newValue*firstguess\n",
    "        secondguess=secondguess/secondguess.sum()\n",
    "        print (secondguess)"
   ]
  },
  {
   "cell_type": "code",
   "execution_count": 143,
   "id": "0f6e3327",
   "metadata": {},
   "outputs": [
    {
     "name": "stdout",
     "output_type": "stream",
     "text": [
      "[0.05295091 0.31025924 0.07942637 0.30005516 0.04633205 0.\n",
      " 0.21097628 0.        ]\n"
     ]
    }
   ],
   "source": [
    "thirdguess=np.zeros((newValue.shape[0],Ninputstates),dtype=float)\n",
    "for i in range(1):\n",
    "    for j in range(1):\n",
    "        #thirdguess =(newValue*(secondguess))/(newValue*secondguess).sum()\n",
    "        thirdguess=newValue*secondguess\n",
    "        thirdguess=thirdguess/thirdguess.sum()\n",
    "        print (thirdguess)"
   ]
  },
  {
   "cell_type": "code",
   "execution_count": 146,
   "id": "903a956a",
   "metadata": {},
   "outputs": [
    {
     "name": "stdout",
     "output_type": "stream",
     "text": [
      "[0.05291929 0.38759245 0.05291929 0.39983463 0.05402177 0.\n",
      " 0.05271257 0.        ]\n"
     ]
    }
   ],
   "source": [
    "fourthguess=np.zeros((newValue.shape[0],Ninputstates),dtype=float)\n",
    "for i in range(1):\n",
    "    for j in range(1):\n",
    "        #fourthguess =(newValue*(thirdguess))/(newValue*thirdguess).sum()\n",
    "        fourthguess=newValue*thirdguess\n",
    "        fourthguess=fourthguess/fourthguess.sum()\n",
    "        print (fourthguess)"
   ]
  },
  {
   "cell_type": "code",
   "execution_count": 149,
   "id": "c34178c5",
   "metadata": {},
   "outputs": [
    {
     "name": "stdout",
     "output_type": "stream",
     "text": [
      "[0.07279218 0.33321617 0.10918828 0.27499269 0.05573152 0.\n",
      " 0.15407916 0.        ]\n"
     ]
    }
   ],
   "source": [
    "fifthguess=np.zeros((newValue.shape[0],Ninputstates),dtype=float)\n",
    "for i in range(1):\n",
    "    for j in range(1):\n",
    "        #fifthguess =(newValue*(fourthguess))/(newValue*fourthguess).sum()\n",
    "        fifthguess=newValue*fourthguess\n",
    "        fifthguess=fifthguess/fifthguess.sum()\n",
    "        print (fifthguess)"
   ]
  },
  {
   "cell_type": "code",
   "execution_count": 152,
   "id": "0846ab14",
   "metadata": {},
   "outputs": [
    {
     "name": "stdout",
     "output_type": "stream",
     "text": [
      "[0.02975948 0.13622807 0.20087646 0.33727406 0.09113839 0.\n",
      " 0.20472354 0.        ]\n"
     ]
    }
   ],
   "source": [
    "sixthguess=np.zeros((newValue.shape[0],Ninputstates),dtype=float)\n",
    "for i in range(1):\n",
    "    for j in range(1):\n",
    "        #sixthguess =(newValue*(fifthguess))/(newValue*fifthguess).sum()\n",
    "        sixthguess=newValue*fifthguess\n",
    "        sixthguess=sixthguess/sixthguess.sum()\n",
    "        print (sixthguess)"
   ]
  },
  {
   "cell_type": "code",
   "execution_count": 155,
   "id": "afcb2c0b",
   "metadata": {},
   "outputs": [
    {
     "name": "stdout",
     "output_type": "stream",
     "text": [
      "[0.03161966 0.18092916 0.14228848 0.47780822 0.11297442 0.\n",
      " 0.05438007 0.        ]\n"
     ]
    }
   ],
   "source": [
    "seventhguess=np.zeros((newValue.shape[0],Ninputstates),dtype=float)\n",
    "for i in range(1):\n",
    "    for j in range(1):\n",
    "        #seventhguess =(newValue*(sixthguess))/(newValue*sixthguess).sum()\n",
    "        seventhguess=newValue*sixthguess\n",
    "        seventhguess=seventhguess/seventhguess.sum()\n",
    "        print (seventhguess)"
   ]
  },
  {
   "cell_type": "code",
   "execution_count": 128,
   "id": "c27c3d16",
   "metadata": {},
   "outputs": [
    {
     "name": "stdout",
     "output_type": "stream",
     "text": [
      "[0.00324803 0.47578501 0.0004853  0.33244896 0.00094734 0.\n",
      " 0.05919435 0.12789101]\n"
     ]
    }
   ],
   "source": [
    "eigthguess=np.zeros((newValue.shape[0],Ninputstates),dtype=float)\n",
    "for i in range(1):\n",
    "    for j in range(1):\n",
    "        #eigthguess =(newValue*(seventhguess))/(newValue*seventhguess).sum()\n",
    "        eigthguess=newValue*seventhguess\n",
    "        eigthguess=eigthguess/eigthguess.sum()\n",
    "        print (eigthguess)"
   ]
  },
  {
   "cell_type": "code",
   "execution_count": null,
   "id": "98800865",
   "metadata": {},
   "outputs": [],
   "source": [
    "ninthguess=np.zeros((newValue.shape[0],Ninputstates),dtype=float)\n",
    "for i in range(1):\n",
    "    for j in range(1):\n",
    "        #ninthguess =(newValue*(eigthguess))/(newValue*eigthguess).sum()\n",
    "        ninthguess=newValue*eigthguess\n",
    "        ninthguess=ninthguess/ninthguess.sum()\n",
    "        print (ninthguess)"
   ]
  },
  {
   "cell_type": "code",
   "execution_count": null,
   "id": "5635b4ec",
   "metadata": {},
   "outputs": [],
   "source": [
    "#NO\n",
    "\n",
    "tenthguess=np.zeros((newValue.shape[0],Ninputstates),dtype=float)\n",
    "for i in range(1):\n",
    "    for j in range(1):\n",
    "        tenthguess =(newValue*(ninthguess))/(newValue*ninthguess).sum()\n",
    "        print (tenthguess)"
   ]
  },
  {
   "cell_type": "code",
   "execution_count": null,
   "id": "76c08a61",
   "metadata": {},
   "outputs": [],
   "source": [
    "# The cells below are our group's first attempt at the guessing project. We tried automating too much and overcomplicated \n",
    "# the task at hand. It is left here to see the thought process. "
   ]
  },
  {
   "cell_type": "code",
   "execution_count": 13,
   "id": "08e47895",
   "metadata": {},
   "outputs": [],
   "source": [
    "#Play the Game\n",
    "def play(newValue,out,max_value):\n",
    "    guess=0;\n",
    "    max_value=0;\n",
    "    secondprob=0;\n",
    "    j=0;\n",
    "    #firstprob=np.zeros((newValue.shape[0],Ninputstates),dtype=float)\n",
    "    #secondprob=np.zeros((newValue.shape[0],Ninputstates),dtype=float)\n",
    "    firstprob=np.empty((8, 8),dtype=float)\n",
    "    secondprob=np.empty((8, 8),dtype=float)\n",
    "    test = -1\n",
    "    if (max_value<0.70):\n",
    "    #randomly choosing x y or z and plus or minus based on probabilities\n",
    "        #if (guess==0):\n",
    "        chooserow=prob[(random.randint(0,2)),:]\n",
    "        print (chooserow)\n",
    "\n",
    "        if (random.randint(1,dsize)<=chooserow[j]):\n",
    "            out = 1\n",
    "        else:\n",
    "            out = -1\n",
    "            print (out)\n",
    "        if (out==1):\n",
    "            newValue=chooserow/20\n",
    "            print(newValue)\n",
    "        else:\n",
    "            newValue=(1-(chooserow/20))\n",
    "            print (newValue)\n",
    "            #for i in range(measurements.shape[0]):\n",
    "        for i in range(1):\n",
    "            for j in range(1):\n",
    "                #result = measure(goal,test)\n",
    "                firstprob[i]=(newValue*(1/8)/newValue.sum())\n",
    "                #firstprob[j] =(prob[i,:]*(1/8))/prob.sum()\n",
    "                guess=guess+1\n",
    "                print (firstprob[i])\n",
    "                #result = measure(goal,test)\n",
    "                print(\"Guess=\",guess)\n",
    "                #return firstprob[j]\n",
    "            while (guess>0) and (guess<=20):\n",
    "                chooserow=prob[(random.randint(0,2)),:]\n",
    "                print (chooserow)\n",
    "\n",
    "                if (random.randint(1,dsize)<=chooserow[j]):\n",
    "                    out = 1\n",
    "                else:\n",
    "                    out = -1\n",
    "                print (out)\n",
    "                if (out==1):\n",
    "                    newValue=chooserow/20\n",
    "                    print(newValue)\n",
    "                else:\n",
    "                    newValue=(1-(chooserow/20))\n",
    "                    print (newValue)\n",
    "                #for i in range(measurements.shape[0]):\n",
    "                for i in range(1):\n",
    "                    for j in range(1):\n",
    "                        secondprob[i] =(newValue*(firstprob[i]))/newValue.sum()\n",
    "                        #secondprob[j] =(prob[i,:]*(firstprob[j]))/prob.sum()\n",
    "                        print (secondprob[i])\n",
    "                        #result = measure(goal,test)\n",
    "                        guess=guess+1\n",
    "                        print(\"Guess=\",guess)\n",
    "                        max_value = np.max(secondprob[i])\n",
    "                        print (max_value)\n",
    "                        #searchValue >= 0.7\n",
    "                        #index = secondprob.index(searchValue)\n",
    "                        #print(\" The element\", searchValue, \" is found at: \", index)\n",
    "                        #return secondprob[j]\n",
    "            else:\n",
    "                print(\"Exceeded measurement limit!  Guesses = {}\".format(guess))\n",
    "                break\n",
    "    if (max_value>=0.70):\n",
    "        print (secondprob[j])"
   ]
  },
  {
   "cell_type": "code",
   "execution_count": 14,
   "id": "13c39529",
   "metadata": {},
   "outputs": [
    {
     "name": "stdout",
     "output_type": "stream",
     "text": [
      "[ 8  5 12  4  6 12 17  0]\n",
      "[0.4  0.25 0.6  0.2  0.3  0.6  0.85 0.  ]\n",
      "[0.015625   0.00976562 0.0234375  0.0078125  0.01171875 0.0234375\n",
      " 0.03320312 0.        ]\n",
      "Guess= 1\n",
      "[ 2 15  3 17  2  0 15  6]\n",
      "-1\n",
      "[0.9  0.25 0.85 0.15 0.9  1.   0.25 0.7 ]\n",
      "[0.0028125  0.00048828 0.00398437 0.00023438 0.00210937 0.0046875\n",
      " 0.00166016 0.        ]\n",
      "Guess= 2\n",
      "0.004687499999999999\n",
      "[ 8  5 12  4  6 12 17  0]\n",
      "-1\n",
      "[0.6  0.75 0.4  0.8  0.7  0.4  0.15 1.  ]\n",
      "[0.00195312 0.00152588 0.00195312 0.00130208 0.00170898 0.00195312\n",
      " 0.0010376  0.        ]\n",
      "Guess= 3\n",
      "0.0019531249999999996\n",
      "[ 2 15  3 17  2  0 15  6]\n",
      "-1\n",
      "[0.9  0.25 0.85 0.15 0.9  1.   0.25 0.7 ]\n",
      "[0.0028125  0.00048828 0.00398437 0.00023438 0.00210937 0.0046875\n",
      " 0.00166016 0.        ]\n",
      "Guess= 4\n",
      "0.004687499999999999\n",
      "[16 16  2  8  4 11  7 12]\n",
      "1\n",
      "[0.8  0.8  0.1  0.4  0.2  0.55 0.35 0.6 ]\n",
      "[0.00328947 0.00205592 0.00061678 0.00082237 0.00061678 0.00339227\n",
      " 0.00305818 0.        ]\n",
      "Guess= 5\n",
      "0.0033922697368421054\n",
      "[16 16  2  8  4 11  7 12]\n",
      "1\n",
      "[0.8  0.8  0.1  0.4  0.2  0.55 0.35 0.6 ]\n",
      "[0.00328947 0.00205592 0.00061678 0.00082237 0.00061678 0.00339227\n",
      " 0.00305818 0.        ]\n",
      "Guess= 6\n",
      "0.0033922697368421054\n",
      "[ 2 15  3 17  2  0 15  6]\n",
      "-1\n",
      "[0.9  0.25 0.85 0.15 0.9  1.   0.25 0.7 ]\n",
      "[0.0028125  0.00048828 0.00398437 0.00023438 0.00210937 0.0046875\n",
      " 0.00166016 0.        ]\n",
      "Guess= 7\n",
      "0.004687499999999999\n",
      "[ 8  5 12  4  6 12 17  0]\n",
      "1\n",
      "[0.4  0.25 0.6  0.2  0.3  0.6  0.85 0.  ]\n",
      "[0.00195312 0.00076294 0.00439453 0.00048828 0.00109863 0.00439453\n",
      " 0.00881958 0.        ]\n",
      "Guess= 8\n",
      "0.008819580078124998\n",
      "[16 16  2  8  4 11  7 12]\n",
      "1\n",
      "[0.8  0.8  0.1  0.4  0.2  0.55 0.35 0.6 ]\n",
      "[0.00328947 0.00205592 0.00061678 0.00082237 0.00061678 0.00339227\n",
      " 0.00305818 0.        ]\n",
      "Guess= 9\n",
      "0.0033922697368421054\n",
      "[ 8  5 12  4  6 12 17  0]\n",
      "-1\n",
      "[0.6  0.75 0.4  0.8  0.7  0.4  0.15 1.  ]\n",
      "[0.00195312 0.00152588 0.00195312 0.00130208 0.00170898 0.00195312\n",
      " 0.0010376  0.        ]\n",
      "Guess= 10\n",
      "0.0019531249999999996\n",
      "[ 2 15  3 17  2  0 15  6]\n",
      "-1\n",
      "[0.9  0.25 0.85 0.15 0.9  1.   0.25 0.7 ]\n",
      "[0.0028125  0.00048828 0.00398437 0.00023438 0.00210937 0.0046875\n",
      " 0.00166016 0.        ]\n",
      "Guess= 11\n",
      "0.004687499999999999\n",
      "[16 16  2  8  4 11  7 12]\n",
      "1\n",
      "[0.8  0.8  0.1  0.4  0.2  0.55 0.35 0.6 ]\n",
      "[0.00328947 0.00205592 0.00061678 0.00082237 0.00061678 0.00339227\n",
      " 0.00305818 0.        ]\n",
      "Guess= 12\n",
      "0.0033922697368421054\n",
      "[16 16  2  8  4 11  7 12]\n",
      "1\n",
      "[0.8  0.8  0.1  0.4  0.2  0.55 0.35 0.6 ]\n",
      "[0.00328947 0.00205592 0.00061678 0.00082237 0.00061678 0.00339227\n",
      " 0.00305818 0.        ]\n",
      "Guess= 13\n",
      "0.0033922697368421054\n",
      "[ 8  5 12  4  6 12 17  0]\n",
      "-1\n",
      "[0.6  0.75 0.4  0.8  0.7  0.4  0.15 1.  ]\n",
      "[0.00195312 0.00152588 0.00195312 0.00130208 0.00170898 0.00195312\n",
      " 0.0010376  0.        ]\n",
      "Guess= 14\n",
      "0.0019531249999999996\n",
      "[ 8  5 12  4  6 12 17  0]\n",
      "-1\n",
      "[0.6  0.75 0.4  0.8  0.7  0.4  0.15 1.  ]\n",
      "[0.00195312 0.00152588 0.00195312 0.00130208 0.00170898 0.00195312\n",
      " 0.0010376  0.        ]\n",
      "Guess= 15\n",
      "0.0019531249999999996\n",
      "[16 16  2  8  4 11  7 12]\n",
      "1\n",
      "[0.8  0.8  0.1  0.4  0.2  0.55 0.35 0.6 ]\n",
      "[0.00328947 0.00205592 0.00061678 0.00082237 0.00061678 0.00339227\n",
      " 0.00305818 0.        ]\n",
      "Guess= 16\n",
      "0.0033922697368421054\n",
      "[16 16  2  8  4 11  7 12]\n",
      "-1\n",
      "[0.2  0.2  0.9  0.6  0.8  0.45 0.65 0.4 ]\n",
      "[0.00074405 0.00046503 0.00502232 0.00111607 0.00223214 0.00251116\n",
      " 0.00513858 0.        ]\n",
      "Guess= 17\n",
      "0.00513857886904762\n",
      "[ 8  5 12  4  6 12 17  0]\n",
      "1\n",
      "[0.4  0.25 0.6  0.2  0.3  0.6  0.85 0.  ]\n",
      "[0.00195312 0.00076294 0.00439453 0.00048828 0.00109863 0.00439453\n",
      " 0.00881958 0.        ]\n",
      "Guess= 18\n",
      "0.008819580078124998\n",
      "[ 2 15  3 17  2  0 15  6]\n",
      "-1\n",
      "[0.9  0.25 0.85 0.15 0.9  1.   0.25 0.7 ]\n",
      "[0.0028125  0.00048828 0.00398437 0.00023438 0.00210937 0.0046875\n",
      " 0.00166016 0.        ]\n",
      "Guess= 19\n",
      "0.004687499999999999\n",
      "[16 16  2  8  4 11  7 12]\n",
      "1\n",
      "[0.8  0.8  0.1  0.4  0.2  0.55 0.35 0.6 ]\n",
      "[0.00328947 0.00205592 0.00061678 0.00082237 0.00061678 0.00339227\n",
      " 0.00305818 0.        ]\n",
      "Guess= 20\n",
      "0.0033922697368421054\n",
      "[ 2 15  3 17  2  0 15  6]\n",
      "-1\n",
      "[0.9  0.25 0.85 0.15 0.9  1.   0.25 0.7 ]\n",
      "[0.0028125  0.00048828 0.00398437 0.00023438 0.00210937 0.0046875\n",
      " 0.00166016 0.        ]\n",
      "Guess= 21\n",
      "0.004687499999999999\n",
      "Exceeded measurement limit!  Guesses = 21\n"
     ]
    }
   ],
   "source": [
    "play(newValue,out,max_value)"
   ]
  },
  {
   "cell_type": "code",
   "execution_count": null,
   "id": "31fb466a",
   "metadata": {},
   "outputs": [],
   "source": []
  }
 ],
 "metadata": {
  "kernelspec": {
   "display_name": "Python 3",
   "language": "python",
   "name": "python3"
  },
  "language_info": {
   "codemirror_mode": {
    "name": "ipython",
    "version": 3
   },
   "file_extension": ".py",
   "mimetype": "text/x-python",
   "name": "python",
   "nbconvert_exporter": "python",
   "pygments_lexer": "ipython3",
   "version": "3.8.8"
  }
 },
 "nbformat": 4,
 "nbformat_minor": 5
}
